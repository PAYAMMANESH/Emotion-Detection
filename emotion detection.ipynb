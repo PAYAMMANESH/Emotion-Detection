{
 "cells": [
  {
   "cell_type": "code",
   "execution_count": 9,
   "id": "8420ec41-82a0-44f6-80e9-afc8bcc2de9b",
   "metadata": {},
   "outputs": [],
   "source": [
    "import cv2\n",
    "import numpy as np\n",
    "import keras\n",
    "from keras.preprocessing import image\n",
    "from keras.models import model_from_json\n",
    "import face_recognition"
   ]
  },
  {
   "cell_type": "code",
   "execution_count": 23,
   "id": "0e9b9d50-daa6-46c9-b5a1-e6dcdde6859a",
   "metadata": {},
   "outputs": [],
   "source": [
    "webcam = cv2.VideoCapture(0)\n",
    "face_exp_model = model_from_json(open(\"facial_expression_model_structure.json\", \"r\").read())\n",
    "face_exp_model.load_weights(\"facial_expression_model_weights.h5\")\n",
    "emotions_label = (\"angry\", \"disgust\", \"fear\", \"happy\", \"sad\", \"surprise\", \"neutral\")"
   ]
  },
  {
   "cell_type": "code",
   "execution_count": 24,
   "id": "839ccb9d-3559-4e41-b26f-e1b75cc5917b",
   "metadata": {},
   "outputs": [
    {
     "name": "stdout",
     "output_type": "stream",
     "text": [
      "1/1 [==============================] - 0s 78ms/step\n",
      "[[2.7881678e-02 5.6884233e-03 9.3454117e-01 3.7742418e-05 2.9742336e-02\n",
      "  9.7794260e-04 1.1307511e-03]]\n",
      "1/1 [==============================] - 0s 19ms/step\n",
      "[[2.0731039e-02 1.8683759e-05 2.5677463e-01 1.1953951e-02 7.4048638e-03\n",
      "  1.0568789e-02 6.9254798e-01]]\n",
      "1/1 [==============================] - 0s 18ms/step\n",
      "[[7.94503391e-02 1.04590465e-04 8.97364557e-01 5.63113426e-04\n",
      "  1.32054575e-02 2.67021777e-03 6.64162170e-03]]\n",
      "1/1 [==============================] - 0s 17ms/step\n",
      "[[6.9841309e-03 6.2021331e-06 8.7818784e-01 7.2048246e-03 3.2502511e-03\n",
      "  1.0895869e-02 9.3470886e-02]]\n",
      "1/1 [==============================] - 0s 17ms/step\n",
      "[[2.3715386e-02 6.3835978e-05 9.4580024e-01 6.0094474e-03 3.8068576e-03\n",
      "  1.6098279e-03 1.8994376e-02]]\n",
      "1/1 [==============================] - 0s 18ms/step\n",
      "[[2.6283044e-02 2.8635750e-05 9.6451479e-01 3.2956214e-03 2.9687691e-03\n",
      "  6.6721189e-04 2.2418979e-03]]\n",
      "1/1 [==============================] - 0s 18ms/step\n",
      "[[2.0071998e-02 2.4484334e-05 9.7305578e-01 3.2768224e-03 2.0489506e-03\n",
      "  3.0107787e-04 1.2207932e-03]]\n",
      "1/1 [==============================] - 0s 17ms/step\n",
      "[[1.3152562e-02 1.8166111e-05 9.6979719e-01 1.1136559e-02 3.6418864e-03\n",
      "  4.4597650e-04 1.8076169e-03]]\n",
      "1/1 [==============================] - 0s 17ms/step\n",
      "[[1.02328425e-02 3.45295643e-06 9.49701846e-01 1.92570183e-02\n",
      "  4.66056308e-03 1.32090272e-03 1.48232561e-02]]\n",
      "1/1 [==============================] - 0s 17ms/step\n",
      "[[2.0107512e-04 4.2899739e-08 3.1757534e-03 1.6263050e-03 9.4246082e-02\n",
      "  9.0838766e-06 9.0074164e-01]]\n",
      "1/1 [==============================] - 0s 17ms/step\n",
      "[[1.4758447e-02 4.6464675e-06 2.9751751e-01 7.0505105e-03 6.0309891e-02\n",
      "  6.1503910e-03 6.1420858e-01]]\n",
      "1/1 [==============================] - 0s 17ms/step\n",
      "[[1.2727599e-02 7.6157528e-05 4.8089525e-01 3.4059617e-01 4.9518727e-02\n",
      "  1.8566607e-02 9.7619511e-02]]\n",
      "1/1 [==============================] - 0s 19ms/step\n",
      "[[1.7840197e-04 9.7756292e-09 8.1818434e-04 4.6261441e-02 1.7632965e-03\n",
      "  5.5687964e-05 9.5092297e-01]]\n",
      "1/1 [==============================] - 0s 18ms/step\n",
      "[[0.04849045 0.00354641 0.05045323 0.05868034 0.05693302 0.00161184\n",
      "  0.78028476]]\n",
      "1/1 [==============================] - 0s 16ms/step\n",
      "[[0.25027975 0.01657961 0.43533063 0.02028727 0.16484907 0.09787888\n",
      "  0.01479479]]\n",
      "1/1 [==============================] - 0s 18ms/step\n",
      "[[2.9956713e-02 1.5401551e-05 2.9011888e-02 2.3809408e-01 2.7633510e-03\n",
      "  3.3656016e-02 6.6650259e-01]]\n",
      "1/1 [==============================] - 0s 18ms/step\n",
      "[[6.1180031e-01 4.3801107e-03 4.0092282e-02 1.0293044e-02 2.3461051e-01\n",
      "  4.3565166e-04 9.8388039e-02]]\n",
      "1/1 [==============================] - 0s 18ms/step\n",
      "[[5.8275044e-01 4.2542692e-05 2.1212831e-02 1.3246398e-03 3.7491497e-01\n",
      "  9.0469839e-04 1.8849880e-02]]\n",
      "1/1 [==============================] - 0s 17ms/step\n",
      "[[0.29601532 0.00142051 0.1729413  0.02917919 0.44277546 0.00322622\n",
      "  0.05444198]]\n",
      "1/1 [==============================] - 0s 18ms/step\n",
      "[[3.4165837e-02 1.0388019e-01 2.6037121e-01 8.2493834e-03 4.2840913e-01\n",
      "  3.3286258e-04 1.6459136e-01]]\n"
     ]
    }
   ],
   "source": [
    "all_face_location = []\n",
    "while True:\n",
    "    ret, frame = webcam.read()\n",
    "    #small_frame = cv2.resize(frame, (0,0), fx=0.25, fy=0.25)\n",
    "    face_location = face_recognition.face_locations(frame, number_of_times_to_upsample = 2, model='hog')\n",
    "\n",
    "    for i in face_location:\n",
    "        top, right, buttom, left = i[0],i[1],i[2],i[3]\n",
    "        face = frame[top:buttom, left:right]\n",
    "        cv2.rectangle(frame, (left,top), (right,buttom),(0,0,255),2)\n",
    "        face = cv2.cvtColor(face, cv2.COLOR_BGR2GRAY)\n",
    "        face = cv2.resize(face, (48,48))\n",
    "        face_pixels = image.img_to_array(face)\n",
    "        face_pixels = np.expand_dims(face_pixels, axis=0)\n",
    "        face_pixels /=255 \n",
    "        exp_predictions = face_exp_model.predict(face_pixels)\n",
    "        print(exp_predictions)\n",
    "        max_index = np.argmax(exp_predictions[0])\n",
    "        emotion_label = emotions_label[max_index]\n",
    "        font = cv2.FONT_HERSHEY_DUPLEX\n",
    "        cv2.putText(frame, emotion_label, (left,buttom), font, 0.5, (255,255,255), 1)\n",
    "    cv2.imshow(\"webcam\", frame)\n",
    "    if cv2.waitKey(1) & 0xFF == ord('q'):\n",
    "        break\n",
    "webcam.release()\n",
    "cv2.destroyAllWindows()\n",
    "        "
   ]
  },
  {
   "cell_type": "code",
   "execution_count": null,
   "id": "de371374-9812-4087-9004-456af80026d0",
   "metadata": {},
   "outputs": [],
   "source": []
  },
  {
   "cell_type": "code",
   "execution_count": null,
   "id": "8695d0dc-e648-485b-9e58-c68bf9344c6a",
   "metadata": {},
   "outputs": [],
   "source": []
  }
 ],
 "metadata": {
  "kernelspec": {
   "display_name": "Python 3 (ipykernel)",
   "language": "python",
   "name": "python3"
  },
  "language_info": {
   "codemirror_mode": {
    "name": "ipython",
    "version": 3
   },
   "file_extension": ".py",
   "mimetype": "text/x-python",
   "name": "python",
   "nbconvert_exporter": "python",
   "pygments_lexer": "ipython3",
   "version": "3.11.7"
  }
 },
 "nbformat": 4,
 "nbformat_minor": 5
}
